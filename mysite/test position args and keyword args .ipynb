{
 "cells": [
  {
   "cell_type": "code",
   "execution_count": 5,
   "outputs": [],
   "source": [
    "def hello(*args) :\n",
    "    print(type(args))\n",
    "    print(args)\n",
    "    print(args[1])"
   ],
   "metadata": {
    "collapsed": false,
    "pycharm": {
     "name": "#%%\n"
    }
   }
  },
  {
   "cell_type": "code",
   "execution_count": 6,
   "outputs": [
    {
     "name": "stdout",
     "output_type": "stream",
     "text": [
      "<class 'tuple'>\n",
      "('test', 'test2')\n",
      "test2\n"
     ]
    }
   ],
   "source": [
    "hello('test','test2')"
   ],
   "metadata": {
    "collapsed": false,
    "pycharm": {
     "name": "#%%\n"
    }
   }
  },
  {
   "cell_type": "code",
   "execution_count": 7,
   "outputs": [],
   "source": [
    "def hello2(**kwargs) :\n",
    "    print(type(kwargs))\n",
    "    print(kwargs)\n",
    "    print(kwargs['a'])"
   ],
   "metadata": {
    "collapsed": false,
    "pycharm": {
     "name": "#%%\n"
    }
   }
  },
  {
   "cell_type": "code",
   "execution_count": 10,
   "outputs": [
    {
     "name": "stdout",
     "output_type": "stream",
     "text": [
      "<class 'dict'>\n",
      "{'a': 'hi'}\n",
      "hi\n"
     ]
    }
   ],
   "source": [
    "hello2(a='hi')"
   ],
   "metadata": {
    "collapsed": false,
    "pycharm": {
     "name": "#%%\n"
    }
   }
  },
  {
   "cell_type": "code",
   "execution_count": 11,
   "outputs": [
    {
     "ename": "ImproperlyConfigured",
     "evalue": "Requested setting INSTALLED_APPS, but settings are not configured. You must either define the environment variable DJANGO_SETTINGS_MODULE or call settings.configure() before accessing settings.",
     "output_type": "error",
     "traceback": [
      "\u001B[1;31m---------------------------------------------------------------------------\u001B[0m",
      "\u001B[1;31mImproperlyConfigured\u001B[0m                      Traceback (most recent call last)",
      "Input \u001B[1;32mIn [11]\u001B[0m, in \u001B[0;36m<cell line: 2>\u001B[1;34m()\u001B[0m\n\u001B[0;32m      1\u001B[0m \u001B[38;5;66;03m# Shell Plus Model Imports\u001B[39;00m\n\u001B[1;32m----> 2\u001B[0m \u001B[38;5;28;01mfrom\u001B[39;00m \u001B[38;5;21;01mdjango\u001B[39;00m\u001B[38;5;21;01m.\u001B[39;00m\u001B[38;5;21;01mcontrib\u001B[39;00m\u001B[38;5;21;01m.\u001B[39;00m\u001B[38;5;21;01madmin\u001B[39;00m\u001B[38;5;21;01m.\u001B[39;00m\u001B[38;5;21;01mmodels\u001B[39;00m \u001B[38;5;28;01mimport\u001B[39;00m LogEntry\n\u001B[0;32m      3\u001B[0m \u001B[38;5;28;01mfrom\u001B[39;00m \u001B[38;5;21;01mdjango\u001B[39;00m\u001B[38;5;21;01m.\u001B[39;00m\u001B[38;5;21;01mcontrib\u001B[39;00m\u001B[38;5;21;01m.\u001B[39;00m\u001B[38;5;21;01mauth\u001B[39;00m\u001B[38;5;21;01m.\u001B[39;00m\u001B[38;5;21;01mmodels\u001B[39;00m \u001B[38;5;28;01mimport\u001B[39;00m Group, Permission, User\n\u001B[0;32m      4\u001B[0m \u001B[38;5;28;01mfrom\u001B[39;00m \u001B[38;5;21;01mdjango\u001B[39;00m\u001B[38;5;21;01m.\u001B[39;00m\u001B[38;5;21;01mcontrib\u001B[39;00m\u001B[38;5;21;01m.\u001B[39;00m\u001B[38;5;21;01mcontenttypes\u001B[39;00m\u001B[38;5;21;01m.\u001B[39;00m\u001B[38;5;21;01mmodels\u001B[39;00m \u001B[38;5;28;01mimport\u001B[39;00m ContentType\n",
      "File \u001B[1;32mC:\\venvs\\mysite\\lib\\site-packages\\django\\contrib\\admin\\models.py:5\u001B[0m, in \u001B[0;36m<module>\u001B[1;34m\u001B[0m\n\u001B[0;32m      3\u001B[0m \u001B[38;5;28;01mfrom\u001B[39;00m \u001B[38;5;21;01mdjango\u001B[39;00m\u001B[38;5;21;01m.\u001B[39;00m\u001B[38;5;21;01mconf\u001B[39;00m \u001B[38;5;28;01mimport\u001B[39;00m settings\n\u001B[0;32m      4\u001B[0m \u001B[38;5;28;01mfrom\u001B[39;00m \u001B[38;5;21;01mdjango\u001B[39;00m\u001B[38;5;21;01m.\u001B[39;00m\u001B[38;5;21;01mcontrib\u001B[39;00m\u001B[38;5;21;01m.\u001B[39;00m\u001B[38;5;21;01madmin\u001B[39;00m\u001B[38;5;21;01m.\u001B[39;00m\u001B[38;5;21;01mutils\u001B[39;00m \u001B[38;5;28;01mimport\u001B[39;00m quote\n\u001B[1;32m----> 5\u001B[0m \u001B[38;5;28;01mfrom\u001B[39;00m \u001B[38;5;21;01mdjango\u001B[39;00m\u001B[38;5;21;01m.\u001B[39;00m\u001B[38;5;21;01mcontrib\u001B[39;00m\u001B[38;5;21;01m.\u001B[39;00m\u001B[38;5;21;01mcontenttypes\u001B[39;00m\u001B[38;5;21;01m.\u001B[39;00m\u001B[38;5;21;01mmodels\u001B[39;00m \u001B[38;5;28;01mimport\u001B[39;00m ContentType\n\u001B[0;32m      6\u001B[0m \u001B[38;5;28;01mfrom\u001B[39;00m \u001B[38;5;21;01mdjango\u001B[39;00m\u001B[38;5;21;01m.\u001B[39;00m\u001B[38;5;21;01mdb\u001B[39;00m \u001B[38;5;28;01mimport\u001B[39;00m models\n\u001B[0;32m      7\u001B[0m \u001B[38;5;28;01mfrom\u001B[39;00m \u001B[38;5;21;01mdjango\u001B[39;00m\u001B[38;5;21;01m.\u001B[39;00m\u001B[38;5;21;01murls\u001B[39;00m \u001B[38;5;28;01mimport\u001B[39;00m NoReverseMatch, reverse\n",
      "File \u001B[1;32mC:\\venvs\\mysite\\lib\\site-packages\\django\\contrib\\contenttypes\\models.py:131\u001B[0m, in \u001B[0;36m<module>\u001B[1;34m\u001B[0m\n\u001B[0;32m    127\u001B[0m         \u001B[38;5;28mself\u001B[39m\u001B[38;5;241m.\u001B[39m_cache\u001B[38;5;241m.\u001B[39msetdefault(using, {})[key] \u001B[38;5;241m=\u001B[39m ct\n\u001B[0;32m    128\u001B[0m         \u001B[38;5;28mself\u001B[39m\u001B[38;5;241m.\u001B[39m_cache\u001B[38;5;241m.\u001B[39msetdefault(using, {})[ct\u001B[38;5;241m.\u001B[39mid] \u001B[38;5;241m=\u001B[39m ct\n\u001B[1;32m--> 131\u001B[0m \u001B[38;5;28;01mclass\u001B[39;00m \u001B[38;5;21;01mContentType\u001B[39;00m(models\u001B[38;5;241m.\u001B[39mModel):\n\u001B[0;32m    132\u001B[0m     app_label \u001B[38;5;241m=\u001B[39m models\u001B[38;5;241m.\u001B[39mCharField(max_length\u001B[38;5;241m=\u001B[39m\u001B[38;5;241m100\u001B[39m)\n\u001B[0;32m    133\u001B[0m     model \u001B[38;5;241m=\u001B[39m models\u001B[38;5;241m.\u001B[39mCharField(_(\u001B[38;5;124m\"\u001B[39m\u001B[38;5;124mpython model class name\u001B[39m\u001B[38;5;124m\"\u001B[39m), max_length\u001B[38;5;241m=\u001B[39m\u001B[38;5;241m100\u001B[39m)\n",
      "File \u001B[1;32mC:\\venvs\\mysite\\lib\\site-packages\\django\\db\\models\\base.py:127\u001B[0m, in \u001B[0;36mModelBase.__new__\u001B[1;34m(cls, name, bases, attrs, **kwargs)\u001B[0m\n\u001B[0;32m    124\u001B[0m app_label \u001B[38;5;241m=\u001B[39m \u001B[38;5;28;01mNone\u001B[39;00m\n\u001B[0;32m    126\u001B[0m \u001B[38;5;66;03m# Look for an application configuration to attach the model to.\u001B[39;00m\n\u001B[1;32m--> 127\u001B[0m app_config \u001B[38;5;241m=\u001B[39m \u001B[43mapps\u001B[49m\u001B[38;5;241;43m.\u001B[39;49m\u001B[43mget_containing_app_config\u001B[49m\u001B[43m(\u001B[49m\u001B[43mmodule\u001B[49m\u001B[43m)\u001B[49m\n\u001B[0;32m    129\u001B[0m \u001B[38;5;28;01mif\u001B[39;00m \u001B[38;5;28mgetattr\u001B[39m(meta, \u001B[38;5;124m\"\u001B[39m\u001B[38;5;124mapp_label\u001B[39m\u001B[38;5;124m\"\u001B[39m, \u001B[38;5;28;01mNone\u001B[39;00m) \u001B[38;5;129;01mis\u001B[39;00m \u001B[38;5;28;01mNone\u001B[39;00m:\n\u001B[0;32m    130\u001B[0m     \u001B[38;5;28;01mif\u001B[39;00m app_config \u001B[38;5;129;01mis\u001B[39;00m \u001B[38;5;28;01mNone\u001B[39;00m:\n",
      "File \u001B[1;32mC:\\venvs\\mysite\\lib\\site-packages\\django\\apps\\registry.py:260\u001B[0m, in \u001B[0;36mApps.get_containing_app_config\u001B[1;34m(self, object_name)\u001B[0m\n\u001B[0;32m    251\u001B[0m \u001B[38;5;28;01mdef\u001B[39;00m \u001B[38;5;21mget_containing_app_config\u001B[39m(\u001B[38;5;28mself\u001B[39m, object_name):\n\u001B[0;32m    252\u001B[0m     \u001B[38;5;124;03m\"\"\"\u001B[39;00m\n\u001B[0;32m    253\u001B[0m \u001B[38;5;124;03m    Look for an app config containing a given object.\u001B[39;00m\n\u001B[0;32m    254\u001B[0m \n\u001B[1;32m   (...)\u001B[0m\n\u001B[0;32m    258\u001B[0m \u001B[38;5;124;03m    Return None if the object isn't in any registered app config.\u001B[39;00m\n\u001B[0;32m    259\u001B[0m \u001B[38;5;124;03m    \"\"\"\u001B[39;00m\n\u001B[1;32m--> 260\u001B[0m     \u001B[38;5;28;43mself\u001B[39;49m\u001B[38;5;241;43m.\u001B[39;49m\u001B[43mcheck_apps_ready\u001B[49m\u001B[43m(\u001B[49m\u001B[43m)\u001B[49m\n\u001B[0;32m    261\u001B[0m     candidates \u001B[38;5;241m=\u001B[39m []\n\u001B[0;32m    262\u001B[0m     \u001B[38;5;28;01mfor\u001B[39;00m app_config \u001B[38;5;129;01min\u001B[39;00m \u001B[38;5;28mself\u001B[39m\u001B[38;5;241m.\u001B[39mapp_configs\u001B[38;5;241m.\u001B[39mvalues():\n",
      "File \u001B[1;32mC:\\venvs\\mysite\\lib\\site-packages\\django\\apps\\registry.py:137\u001B[0m, in \u001B[0;36mApps.check_apps_ready\u001B[1;34m(self)\u001B[0m\n\u001B[0;32m    132\u001B[0m \u001B[38;5;28;01mfrom\u001B[39;00m \u001B[38;5;21;01mdjango\u001B[39;00m\u001B[38;5;21;01m.\u001B[39;00m\u001B[38;5;21;01mconf\u001B[39;00m \u001B[38;5;28;01mimport\u001B[39;00m settings\n\u001B[0;32m    134\u001B[0m \u001B[38;5;66;03m# If \"not ready\" is due to unconfigured settings, accessing\u001B[39;00m\n\u001B[0;32m    135\u001B[0m \u001B[38;5;66;03m# INSTALLED_APPS raises a more helpful ImproperlyConfigured\u001B[39;00m\n\u001B[0;32m    136\u001B[0m \u001B[38;5;66;03m# exception.\u001B[39;00m\n\u001B[1;32m--> 137\u001B[0m \u001B[43msettings\u001B[49m\u001B[38;5;241;43m.\u001B[39;49m\u001B[43mINSTALLED_APPS\u001B[49m\n\u001B[0;32m    138\u001B[0m \u001B[38;5;28;01mraise\u001B[39;00m AppRegistryNotReady(\u001B[38;5;124m\"\u001B[39m\u001B[38;5;124mApps aren\u001B[39m\u001B[38;5;124m'\u001B[39m\u001B[38;5;124mt loaded yet.\u001B[39m\u001B[38;5;124m\"\u001B[39m)\n",
      "File \u001B[1;32mC:\\venvs\\mysite\\lib\\site-packages\\django\\conf\\__init__.py:87\u001B[0m, in \u001B[0;36mLazySettings.__getattr__\u001B[1;34m(self, name)\u001B[0m\n\u001B[0;32m     85\u001B[0m \u001B[38;5;124;03m\"\"\"Return the value of a setting and cache it in self.__dict__.\"\"\"\u001B[39;00m\n\u001B[0;32m     86\u001B[0m \u001B[38;5;28;01mif\u001B[39;00m \u001B[38;5;28mself\u001B[39m\u001B[38;5;241m.\u001B[39m_wrapped \u001B[38;5;129;01mis\u001B[39;00m empty:\n\u001B[1;32m---> 87\u001B[0m     \u001B[38;5;28;43mself\u001B[39;49m\u001B[38;5;241;43m.\u001B[39;49m\u001B[43m_setup\u001B[49m\u001B[43m(\u001B[49m\u001B[43mname\u001B[49m\u001B[43m)\u001B[49m\n\u001B[0;32m     88\u001B[0m val \u001B[38;5;241m=\u001B[39m \u001B[38;5;28mgetattr\u001B[39m(\u001B[38;5;28mself\u001B[39m\u001B[38;5;241m.\u001B[39m_wrapped, name)\n\u001B[0;32m     90\u001B[0m \u001B[38;5;66;03m# Special case some settings which require further modification.\u001B[39;00m\n\u001B[0;32m     91\u001B[0m \u001B[38;5;66;03m# This is done here for performance reasons so the modified value is cached.\u001B[39;00m\n",
      "File \u001B[1;32mC:\\venvs\\mysite\\lib\\site-packages\\django\\conf\\__init__.py:67\u001B[0m, in \u001B[0;36mLazySettings._setup\u001B[1;34m(self, name)\u001B[0m\n\u001B[0;32m     65\u001B[0m \u001B[38;5;28;01mif\u001B[39;00m \u001B[38;5;129;01mnot\u001B[39;00m settings_module:\n\u001B[0;32m     66\u001B[0m     desc \u001B[38;5;241m=\u001B[39m (\u001B[38;5;124m\"\u001B[39m\u001B[38;5;124msetting \u001B[39m\u001B[38;5;132;01m%s\u001B[39;00m\u001B[38;5;124m\"\u001B[39m \u001B[38;5;241m%\u001B[39m name) \u001B[38;5;28;01mif\u001B[39;00m name \u001B[38;5;28;01melse\u001B[39;00m \u001B[38;5;124m\"\u001B[39m\u001B[38;5;124msettings\u001B[39m\u001B[38;5;124m\"\u001B[39m\n\u001B[1;32m---> 67\u001B[0m     \u001B[38;5;28;01mraise\u001B[39;00m ImproperlyConfigured(\n\u001B[0;32m     68\u001B[0m         \u001B[38;5;124m\"\u001B[39m\u001B[38;5;124mRequested \u001B[39m\u001B[38;5;132;01m%s\u001B[39;00m\u001B[38;5;124m, but settings are not configured. \u001B[39m\u001B[38;5;124m\"\u001B[39m\n\u001B[0;32m     69\u001B[0m         \u001B[38;5;124m\"\u001B[39m\u001B[38;5;124mYou must either define the environment variable \u001B[39m\u001B[38;5;132;01m%s\u001B[39;00m\u001B[38;5;124m \u001B[39m\u001B[38;5;124m\"\u001B[39m\n\u001B[0;32m     70\u001B[0m         \u001B[38;5;124m\"\u001B[39m\u001B[38;5;124mor call settings.configure() before accessing settings.\u001B[39m\u001B[38;5;124m\"\u001B[39m\n\u001B[0;32m     71\u001B[0m         \u001B[38;5;241m%\u001B[39m (desc, ENVIRONMENT_VARIABLE)\n\u001B[0;32m     72\u001B[0m     )\n\u001B[0;32m     74\u001B[0m \u001B[38;5;28mself\u001B[39m\u001B[38;5;241m.\u001B[39m_wrapped \u001B[38;5;241m=\u001B[39m Settings(settings_module)\n",
      "\u001B[1;31mImproperlyConfigured\u001B[0m: Requested setting INSTALLED_APPS, but settings are not configured. You must either define the environment variable DJANGO_SETTINGS_MODULE or call settings.configure() before accessing settings."
     ]
    }
   ],
   "source": [
    "# Shell Plus Model Imports\n",
    "from django.contrib.admin.models import LogEntry\n",
    "from django.contrib.auth.models import Group, Permission, User\n",
    "from django.contrib.contenttypes.models import ContentType\n",
    "from django.contrib.sessions.models import Session\n",
    "from pybo.models import Answer, Question\n",
    "# Shell Plus Django Imports\n",
    "from django.core.cache import cache\n",
    "from django.conf import settings\n",
    "from django.contrib.auth import get_user_model\n",
    "from django.db import transaction\n",
    "from django.db.models import Avg, Case, Count, F, Max, Min, Prefetch, Q, Sum, When\n",
    "from django.utils import timezone\n",
    "from django.urls import reverse\n",
    "from django.db.models import Exists, OuterRef, Subquery"
   ],
   "metadata": {
    "collapsed": false,
    "pycharm": {
     "name": "#%%\n"
    }
   }
  },
  {
   "cell_type": "markdown",
   "source": [
    "# hi"
   ],
   "metadata": {
    "collapsed": false,
    "pycharm": {
     "name": "#%% md\n"
    }
   }
  },
  {
   "cell_type": "code",
   "execution_count": 1,
   "outputs": [
    {
     "ename": "TypeError",
     "evalue": "unsupported operand type(s) for /: 'str' and 'str'",
     "output_type": "error",
     "traceback": [
      "\u001B[1;31m---------------------------------------------------------------------------\u001B[0m",
      "\u001B[1;31mTypeError\u001B[0m                                 Traceback (most recent call last)",
      "Input \u001B[1;32mIn [1]\u001B[0m, in \u001B[0;36m<cell line: 1>\u001B[1;34m()\u001B[0m\n\u001B[1;32m----> 1\u001B[0m test \u001B[38;5;241m=\u001B[39m [\u001B[38;5;124;43m'\u001B[39;49m\u001B[38;5;124;43mtest\u001B[39;49m\u001B[38;5;124;43m'\u001B[39;49m\u001B[38;5;241;43m/\u001B[39;49m\u001B[38;5;124;43m'\u001B[39;49m\u001B[38;5;124;43ma\u001B[39;49m\u001B[38;5;124;43m'\u001B[39;49m]\n",
      "\u001B[1;31mTypeError\u001B[0m: unsupported operand type(s) for /: 'str' and 'str'"
     ]
    }
   ],
   "source": [
    "test = ['test'/'a']"
   ],
   "metadata": {
    "collapsed": false,
    "pycharm": {
     "name": "#%%\n"
    }
   }
  },
  {
   "cell_type": "code",
   "execution_count": 2,
   "outputs": [
    {
     "ename": "TypeError",
     "evalue": "unsupported operand type(s) for /: 'int' and 'str'",
     "output_type": "error",
     "traceback": [
      "\u001B[1;31m---------------------------------------------------------------------------\u001B[0m",
      "\u001B[1;31mTypeError\u001B[0m                                 Traceback (most recent call last)",
      "Input \u001B[1;32mIn [2]\u001B[0m, in \u001B[0;36m<cell line: 2>\u001B[1;34m()\u001B[0m\n\u001B[0;32m      1\u001B[0m test \u001B[38;5;241m=\u001B[39m [\n\u001B[1;32m----> 2\u001B[0m     \u001B[38;5;241;43m1\u001B[39;49m\u001B[43m \u001B[49m\u001B[38;5;241;43m/\u001B[39;49m\u001B[43m \u001B[49m\u001B[38;5;124;43m'\u001B[39;49m\u001B[38;5;124;43mstatic\u001B[39;49m\u001B[38;5;124;43m'\u001B[39;49m,\n\u001B[0;32m      3\u001B[0m ]\n",
      "\u001B[1;31mTypeError\u001B[0m: unsupported operand type(s) for /: 'int' and 'str'"
     ]
    }
   ],
   "source": [
    "test = [\n",
    "    1 / 'static',\n",
    "]"
   ],
   "metadata": {
    "collapsed": false,
    "pycharm": {
     "name": "#%%\n"
    }
   }
  },
  {
   "cell_type": "code",
   "execution_count": 3,
   "outputs": [],
   "source": [
    "from pathlib import Path\n",
    "p = Path('/etc')"
   ],
   "metadata": {
    "collapsed": false,
    "pycharm": {
     "name": "#%%\n"
    }
   }
  },
  {
   "cell_type": "code",
   "execution_count": null,
   "outputs": [],
   "source": [],
   "metadata": {
    "collapsed": false,
    "pycharm": {
     "name": "#%%\n"
    }
   }
  }
 ],
 "metadata": {
  "kernelspec": {
   "display_name": "Django Shell-Plus",
   "language": "python",
   "name": "django_extensions"
  },
  "language_info": {
   "codemirror_mode": {
    "name": "ipython",
    "version": 3
   },
   "file_extension": ".py",
   "mimetype": "text/x-python",
   "name": "python",
   "nbconvert_exporter": "python",
   "pygments_lexer": "ipython3",
   "version": "3.10.2"
  }
 },
 "nbformat": 4,
 "nbformat_minor": 5
}