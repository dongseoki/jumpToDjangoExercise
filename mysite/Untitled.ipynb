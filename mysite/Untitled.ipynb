{
 "cells": [
  {
   "cell_type": "code",
   "execution_count": 1,
   "id": "e0218b86",
   "metadata": {
    "pycharm": {
     "name": "#%%\n"
    }
   },
   "outputs": [
    {
     "ename": "SynchronousOnlyOperation",
     "evalue": "You cannot call this from an async context - use a thread or sync_to_async.",
     "output_type": "error",
     "traceback": [
      "\u001B[1;31m---------------------------------------------------------------------------\u001B[0m",
      "\u001B[1;31mSynchronousOnlyOperation\u001B[0m                  Traceback (most recent call last)",
      "File \u001B[1;32mC:\\venvs\\mysite\\lib\\site-packages\\IPython\\core\\formatters.py:707\u001B[0m, in \u001B[0;36mPlainTextFormatter.__call__\u001B[1;34m(self, obj)\u001B[0m\n\u001B[0;32m    700\u001B[0m stream \u001B[38;5;241m=\u001B[39m StringIO()\n\u001B[0;32m    701\u001B[0m printer \u001B[38;5;241m=\u001B[39m pretty\u001B[38;5;241m.\u001B[39mRepresentationPrinter(stream, \u001B[38;5;28mself\u001B[39m\u001B[38;5;241m.\u001B[39mverbose,\n\u001B[0;32m    702\u001B[0m     \u001B[38;5;28mself\u001B[39m\u001B[38;5;241m.\u001B[39mmax_width, \u001B[38;5;28mself\u001B[39m\u001B[38;5;241m.\u001B[39mnewline,\n\u001B[0;32m    703\u001B[0m     max_seq_length\u001B[38;5;241m=\u001B[39m\u001B[38;5;28mself\u001B[39m\u001B[38;5;241m.\u001B[39mmax_seq_length,\n\u001B[0;32m    704\u001B[0m     singleton_pprinters\u001B[38;5;241m=\u001B[39m\u001B[38;5;28mself\u001B[39m\u001B[38;5;241m.\u001B[39msingleton_printers,\n\u001B[0;32m    705\u001B[0m     type_pprinters\u001B[38;5;241m=\u001B[39m\u001B[38;5;28mself\u001B[39m\u001B[38;5;241m.\u001B[39mtype_printers,\n\u001B[0;32m    706\u001B[0m     deferred_pprinters\u001B[38;5;241m=\u001B[39m\u001B[38;5;28mself\u001B[39m\u001B[38;5;241m.\u001B[39mdeferred_printers)\n\u001B[1;32m--> 707\u001B[0m \u001B[43mprinter\u001B[49m\u001B[38;5;241;43m.\u001B[39;49m\u001B[43mpretty\u001B[49m\u001B[43m(\u001B[49m\u001B[43mobj\u001B[49m\u001B[43m)\u001B[49m\n\u001B[0;32m    708\u001B[0m printer\u001B[38;5;241m.\u001B[39mflush()\n\u001B[0;32m    709\u001B[0m \u001B[38;5;28;01mreturn\u001B[39;00m stream\u001B[38;5;241m.\u001B[39mgetvalue()\n",
      "File \u001B[1;32mC:\\venvs\\mysite\\lib\\site-packages\\IPython\\lib\\pretty.py:410\u001B[0m, in \u001B[0;36mRepresentationPrinter.pretty\u001B[1;34m(self, obj)\u001B[0m\n\u001B[0;32m    407\u001B[0m                         \u001B[38;5;28;01mreturn\u001B[39;00m meth(obj, \u001B[38;5;28mself\u001B[39m, cycle)\n\u001B[0;32m    408\u001B[0m                 \u001B[38;5;28;01mif\u001B[39;00m \u001B[38;5;28mcls\u001B[39m \u001B[38;5;129;01mis\u001B[39;00m \u001B[38;5;129;01mnot\u001B[39;00m \u001B[38;5;28mobject\u001B[39m \\\n\u001B[0;32m    409\u001B[0m                         \u001B[38;5;129;01mand\u001B[39;00m callable(\u001B[38;5;28mcls\u001B[39m\u001B[38;5;241m.\u001B[39m\u001B[38;5;18m__dict__\u001B[39m\u001B[38;5;241m.\u001B[39mget(\u001B[38;5;124m'\u001B[39m\u001B[38;5;124m__repr__\u001B[39m\u001B[38;5;124m'\u001B[39m)):\n\u001B[1;32m--> 410\u001B[0m                     \u001B[38;5;28;01mreturn\u001B[39;00m \u001B[43m_repr_pprint\u001B[49m\u001B[43m(\u001B[49m\u001B[43mobj\u001B[49m\u001B[43m,\u001B[49m\u001B[43m \u001B[49m\u001B[38;5;28;43mself\u001B[39;49m\u001B[43m,\u001B[49m\u001B[43m \u001B[49m\u001B[43mcycle\u001B[49m\u001B[43m)\u001B[49m\n\u001B[0;32m    412\u001B[0m     \u001B[38;5;28;01mreturn\u001B[39;00m _default_pprint(obj, \u001B[38;5;28mself\u001B[39m, cycle)\n\u001B[0;32m    413\u001B[0m \u001B[38;5;28;01mfinally\u001B[39;00m:\n",
      "File \u001B[1;32mC:\\venvs\\mysite\\lib\\site-packages\\IPython\\lib\\pretty.py:778\u001B[0m, in \u001B[0;36m_repr_pprint\u001B[1;34m(obj, p, cycle)\u001B[0m\n\u001B[0;32m    776\u001B[0m \u001B[38;5;124;03m\"\"\"A pprint that just redirects to the normal repr function.\"\"\"\u001B[39;00m\n\u001B[0;32m    777\u001B[0m \u001B[38;5;66;03m# Find newlines and replace them with p.break_()\u001B[39;00m\n\u001B[1;32m--> 778\u001B[0m output \u001B[38;5;241m=\u001B[39m \u001B[38;5;28;43mrepr\u001B[39;49m\u001B[43m(\u001B[49m\u001B[43mobj\u001B[49m\u001B[43m)\u001B[49m\n\u001B[0;32m    779\u001B[0m lines \u001B[38;5;241m=\u001B[39m output\u001B[38;5;241m.\u001B[39msplitlines()\n\u001B[0;32m    780\u001B[0m \u001B[38;5;28;01mwith\u001B[39;00m p\u001B[38;5;241m.\u001B[39mgroup():\n",
      "File \u001B[1;32mC:\\venvs\\mysite\\lib\\site-packages\\django\\db\\models\\query.py:296\u001B[0m, in \u001B[0;36mQuerySet.__repr__\u001B[1;34m(self)\u001B[0m\n\u001B[0;32m    295\u001B[0m \u001B[38;5;28;01mdef\u001B[39;00m \u001B[38;5;21m__repr__\u001B[39m(\u001B[38;5;28mself\u001B[39m):\n\u001B[1;32m--> 296\u001B[0m     data \u001B[38;5;241m=\u001B[39m \u001B[38;5;28;43mlist\u001B[39;49m\u001B[43m(\u001B[49m\u001B[38;5;28;43mself\u001B[39;49m\u001B[43m[\u001B[49m\u001B[43m:\u001B[49m\u001B[43m \u001B[49m\u001B[43mREPR_OUTPUT_SIZE\u001B[49m\u001B[43m \u001B[49m\u001B[38;5;241;43m+\u001B[39;49m\u001B[43m \u001B[49m\u001B[38;5;241;43m1\u001B[39;49m\u001B[43m]\u001B[49m\u001B[43m)\u001B[49m\n\u001B[0;32m    297\u001B[0m     \u001B[38;5;28;01mif\u001B[39;00m \u001B[38;5;28mlen\u001B[39m(data) \u001B[38;5;241m>\u001B[39m REPR_OUTPUT_SIZE:\n\u001B[0;32m    298\u001B[0m         data[\u001B[38;5;241m-\u001B[39m\u001B[38;5;241m1\u001B[39m] \u001B[38;5;241m=\u001B[39m \u001B[38;5;124m\"\u001B[39m\u001B[38;5;124m...(remaining elements truncated)...\u001B[39m\u001B[38;5;124m\"\u001B[39m\n",
      "File \u001B[1;32mC:\\venvs\\mysite\\lib\\site-packages\\django\\db\\models\\query.py:302\u001B[0m, in \u001B[0;36mQuerySet.__len__\u001B[1;34m(self)\u001B[0m\n\u001B[0;32m    301\u001B[0m \u001B[38;5;28;01mdef\u001B[39;00m \u001B[38;5;21m__len__\u001B[39m(\u001B[38;5;28mself\u001B[39m):\n\u001B[1;32m--> 302\u001B[0m     \u001B[38;5;28;43mself\u001B[39;49m\u001B[38;5;241;43m.\u001B[39;49m\u001B[43m_fetch_all\u001B[49m\u001B[43m(\u001B[49m\u001B[43m)\u001B[49m\n\u001B[0;32m    303\u001B[0m     \u001B[38;5;28;01mreturn\u001B[39;00m \u001B[38;5;28mlen\u001B[39m(\u001B[38;5;28mself\u001B[39m\u001B[38;5;241m.\u001B[39m_result_cache)\n",
      "File \u001B[1;32mC:\\venvs\\mysite\\lib\\site-packages\\django\\db\\models\\query.py:1507\u001B[0m, in \u001B[0;36mQuerySet._fetch_all\u001B[1;34m(self)\u001B[0m\n\u001B[0;32m   1505\u001B[0m \u001B[38;5;28;01mdef\u001B[39;00m \u001B[38;5;21m_fetch_all\u001B[39m(\u001B[38;5;28mself\u001B[39m):\n\u001B[0;32m   1506\u001B[0m     \u001B[38;5;28;01mif\u001B[39;00m \u001B[38;5;28mself\u001B[39m\u001B[38;5;241m.\u001B[39m_result_cache \u001B[38;5;129;01mis\u001B[39;00m \u001B[38;5;28;01mNone\u001B[39;00m:\n\u001B[1;32m-> 1507\u001B[0m         \u001B[38;5;28mself\u001B[39m\u001B[38;5;241m.\u001B[39m_result_cache \u001B[38;5;241m=\u001B[39m \u001B[38;5;28;43mlist\u001B[39;49m\u001B[43m(\u001B[49m\u001B[38;5;28;43mself\u001B[39;49m\u001B[38;5;241;43m.\u001B[39;49m\u001B[43m_iterable_class\u001B[49m\u001B[43m(\u001B[49m\u001B[38;5;28;43mself\u001B[39;49m\u001B[43m)\u001B[49m\u001B[43m)\u001B[49m\n\u001B[0;32m   1508\u001B[0m     \u001B[38;5;28;01mif\u001B[39;00m \u001B[38;5;28mself\u001B[39m\u001B[38;5;241m.\u001B[39m_prefetch_related_lookups \u001B[38;5;129;01mand\u001B[39;00m \u001B[38;5;129;01mnot\u001B[39;00m \u001B[38;5;28mself\u001B[39m\u001B[38;5;241m.\u001B[39m_prefetch_done:\n\u001B[0;32m   1509\u001B[0m         \u001B[38;5;28mself\u001B[39m\u001B[38;5;241m.\u001B[39m_prefetch_related_objects()\n",
      "File \u001B[1;32mC:\\venvs\\mysite\\lib\\site-packages\\django\\db\\models\\query.py:57\u001B[0m, in \u001B[0;36mModelIterable.__iter__\u001B[1;34m(self)\u001B[0m\n\u001B[0;32m     54\u001B[0m compiler \u001B[38;5;241m=\u001B[39m queryset\u001B[38;5;241m.\u001B[39mquery\u001B[38;5;241m.\u001B[39mget_compiler(using\u001B[38;5;241m=\u001B[39mdb)\n\u001B[0;32m     55\u001B[0m \u001B[38;5;66;03m# Execute the query. This will also fill compiler.select, klass_info,\u001B[39;00m\n\u001B[0;32m     56\u001B[0m \u001B[38;5;66;03m# and annotations.\u001B[39;00m\n\u001B[1;32m---> 57\u001B[0m results \u001B[38;5;241m=\u001B[39m \u001B[43mcompiler\u001B[49m\u001B[38;5;241;43m.\u001B[39;49m\u001B[43mexecute_sql\u001B[49m\u001B[43m(\u001B[49m\n\u001B[0;32m     58\u001B[0m \u001B[43m    \u001B[49m\u001B[43mchunked_fetch\u001B[49m\u001B[38;5;241;43m=\u001B[39;49m\u001B[38;5;28;43mself\u001B[39;49m\u001B[38;5;241;43m.\u001B[39;49m\u001B[43mchunked_fetch\u001B[49m\u001B[43m,\u001B[49m\u001B[43m \u001B[49m\u001B[43mchunk_size\u001B[49m\u001B[38;5;241;43m=\u001B[39;49m\u001B[38;5;28;43mself\u001B[39;49m\u001B[38;5;241;43m.\u001B[39;49m\u001B[43mchunk_size\u001B[49m\n\u001B[0;32m     59\u001B[0m \u001B[43m\u001B[49m\u001B[43m)\u001B[49m\n\u001B[0;32m     60\u001B[0m select, klass_info, annotation_col_map \u001B[38;5;241m=\u001B[39m (\n\u001B[0;32m     61\u001B[0m     compiler\u001B[38;5;241m.\u001B[39mselect,\n\u001B[0;32m     62\u001B[0m     compiler\u001B[38;5;241m.\u001B[39mklass_info,\n\u001B[0;32m     63\u001B[0m     compiler\u001B[38;5;241m.\u001B[39mannotation_col_map,\n\u001B[0;32m     64\u001B[0m )\n\u001B[0;32m     65\u001B[0m model_cls \u001B[38;5;241m=\u001B[39m klass_info[\u001B[38;5;124m\"\u001B[39m\u001B[38;5;124mmodel\u001B[39m\u001B[38;5;124m\"\u001B[39m]\n",
      "File \u001B[1;32mC:\\venvs\\mysite\\lib\\site-packages\\django\\db\\models\\sql\\compiler.py:1359\u001B[0m, in \u001B[0;36mSQLCompiler.execute_sql\u001B[1;34m(self, result_type, chunked_fetch, chunk_size)\u001B[0m\n\u001B[0;32m   1357\u001B[0m     cursor \u001B[38;5;241m=\u001B[39m \u001B[38;5;28mself\u001B[39m\u001B[38;5;241m.\u001B[39mconnection\u001B[38;5;241m.\u001B[39mchunked_cursor()\n\u001B[0;32m   1358\u001B[0m \u001B[38;5;28;01melse\u001B[39;00m:\n\u001B[1;32m-> 1359\u001B[0m     cursor \u001B[38;5;241m=\u001B[39m \u001B[38;5;28;43mself\u001B[39;49m\u001B[38;5;241;43m.\u001B[39;49m\u001B[43mconnection\u001B[49m\u001B[38;5;241;43m.\u001B[39;49m\u001B[43mcursor\u001B[49m\u001B[43m(\u001B[49m\u001B[43m)\u001B[49m\n\u001B[0;32m   1360\u001B[0m \u001B[38;5;28;01mtry\u001B[39;00m:\n\u001B[0;32m   1361\u001B[0m     cursor\u001B[38;5;241m.\u001B[39mexecute(sql, params)\n",
      "File \u001B[1;32mC:\\venvs\\mysite\\lib\\site-packages\\django\\utils\\asyncio.py:24\u001B[0m, in \u001B[0;36masync_unsafe.<locals>.decorator.<locals>.inner\u001B[1;34m(*args, **kwargs)\u001B[0m\n\u001B[0;32m     22\u001B[0m         \u001B[38;5;28;01mpass\u001B[39;00m\n\u001B[0;32m     23\u001B[0m     \u001B[38;5;28;01melse\u001B[39;00m:\n\u001B[1;32m---> 24\u001B[0m         \u001B[38;5;28;01mraise\u001B[39;00m SynchronousOnlyOperation(message)\n\u001B[0;32m     25\u001B[0m \u001B[38;5;66;03m# Pass onward.\u001B[39;00m\n\u001B[0;32m     26\u001B[0m \u001B[38;5;28;01mreturn\u001B[39;00m func(\u001B[38;5;241m*\u001B[39margs, \u001B[38;5;241m*\u001B[39m\u001B[38;5;241m*\u001B[39mkwargs)\n",
      "\u001B[1;31mSynchronousOnlyOperation\u001B[0m: You cannot call this from an async context - use a thread or sync_to_async."
     ]
    }
   ],
   "source": [
    "Question.objects.all()"
   ]
  },
  {
   "cell_type": "code",
   "execution_count": null,
   "id": "1976df4b",
   "metadata": {
    "pycharm": {
     "name": "#%%\n"
    }
   },
   "outputs": [],
   "source": []
  }
 ],
 "metadata": {
  "kernelspec": {
   "display_name": "Django Shell-Plus",
   "language": "python",
   "name": "django_extensions"
  },
  "language_info": {
   "codemirror_mode": {
    "name": "ipython",
    "version": 3
   },
   "file_extension": ".py",
   "mimetype": "text/x-python",
   "name": "python",
   "nbconvert_exporter": "python",
   "pygments_lexer": "ipython3",
   "version": "3.10.2"
  }
 },
 "nbformat": 4,
 "nbformat_minor": 5
}